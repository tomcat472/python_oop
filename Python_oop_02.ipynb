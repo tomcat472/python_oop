{
  "nbformat": 4,
  "nbformat_minor": 0,
  "metadata": {
    "colab": {
      "provenance": [],
      "collapsed_sections": [],
      "authorship_tag": "ABX9TyMNa+zUK0h91rj+WWgFQ/Py",
      "include_colab_link": true
    },
    "kernelspec": {
      "name": "python3",
      "display_name": "Python 3"
    },
    "language_info": {
      "name": "python"
    },
    "accelerator": "GPU"
  },
  "cells": [
    {
      "cell_type": "markdown",
      "metadata": {
        "id": "view-in-github",
        "colab_type": "text"
      },
      "source": [
        "<a href=\"https://colab.research.google.com/github/tomcat472/python_oop/blob/main/Python_oop_02.ipynb\" target=\"_parent\"><img src=\"https://colab.research.google.com/assets/colab-badge.svg\" alt=\"Open In Colab\"/></a>"
      ]
    },
    {
      "cell_type": "markdown",
      "source": [
        "# class variable"
      ],
      "metadata": {
        "id": "3Oy6X3M-zmAX"
      }
    },
    {
      "cell_type": "code",
      "execution_count": 1,
      "metadata": {
        "id": "gfUg22HIyWxy"
      },
      "outputs": [],
      "source": [
        "class Student:\n",
        "  def __init__(self,name,age,mark,gender):\n",
        "    self.name=name\n",
        "    self.age=age\n",
        "    self.mark=mark\n",
        "    self.gender=gender"
      ]
    },
    {
      "cell_type": "code",
      "source": [
        "s1=Student('Aung Aung',12,540,'Male')\n",
        "print(s1.name)\n",
        "print(s1.age)\n",
        "print(s1.mark)\n",
        "print(s1.gender)"
      ],
      "metadata": {
        "id": "wwpu6GbDzVa0",
        "colab": {
          "base_uri": "https://localhost:8080/"
        },
        "outputId": "fbad458c-151c-4837-b4f1-b3dd76534c88"
      },
      "execution_count": 2,
      "outputs": [
        {
          "output_type": "stream",
          "name": "stdout",
          "text": [
            "Aung Aung\n",
            "12\n",
            "540\n",
            "Male\n"
          ]
        }
      ]
    },
    {
      "cell_type": "code",
      "source": [
        "s1.__dict__"
      ],
      "metadata": {
        "colab": {
          "base_uri": "https://localhost:8080/"
        },
        "id": "ms9gRxd87uUC",
        "outputId": "aea27f05-98e2-455b-b2df-76eafa22b9ee"
      },
      "execution_count": 3,
      "outputs": [
        {
          "output_type": "execute_result",
          "data": {
            "text/plain": [
              "{'name': 'Aung Aung', 'age': 12, 'mark': 540, 'gender': 'Male'}"
            ]
          },
          "metadata": {},
          "execution_count": 3
        }
      ]
    },
    {
      "cell_type": "code",
      "source": [
        "# class variable method\n",
        "class Student:\n",
        "  gender='Male'\n",
        "  def __init__(self,name,age,mark):\n",
        "    self.name=name\n",
        "    self.age=age\n",
        "    self.mark=mark\n",
        "    self.gender=Student.gender"
      ],
      "metadata": {
        "id": "pvjMHDZazfJk"
      },
      "execution_count": 4,
      "outputs": []
    },
    {
      "cell_type": "code",
      "source": [
        "s2=Student('Mg Mg',12,550)\n",
        "print(s2.name)\n",
        "print(s2.age)\n",
        "print(s2.mark)\n",
        "print(s2.gender)"
      ],
      "metadata": {
        "id": "j20-z-wvzxIB",
        "colab": {
          "base_uri": "https://localhost:8080/"
        },
        "outputId": "cb56853f-e41e-416d-d094-3a6e90ac69dc"
      },
      "execution_count": 5,
      "outputs": [
        {
          "output_type": "stream",
          "name": "stdout",
          "text": [
            "Mg Mg\n",
            "12\n",
            "550\n",
            "Male\n"
          ]
        }
      ]
    },
    {
      "cell_type": "code",
      "source": [
        "# Exercise\n",
        "class Circle:\n",
        "  pi=3.142\n",
        "  def __init__(self,radius):\n",
        "    self.radius=radius\n",
        "  def circle_circum(self):\n",
        "    formula=2*Circle.pi*self.radius\n",
        "    return formula\n",
        "  def circle_area(self):\n",
        "    formula=Circle.pi*(self.radius)**2\n",
        "    return formula"
      ],
      "metadata": {
        "id": "wJ0W2yjj3m5S"
      },
      "execution_count": 6,
      "outputs": []
    },
    {
      "cell_type": "code",
      "source": [
        "c1=Circle(10)\n",
        "c2=Circle(20)"
      ],
      "metadata": {
        "id": "87pJ8_4q21jt"
      },
      "execution_count": 7,
      "outputs": []
    },
    {
      "cell_type": "code",
      "source": [
        "print(c1.circle_area())\n",
        "print(c1.circle_circum())\n",
        "print(c2.circle_area())\n",
        "print(c2.circle_circum())"
      ],
      "metadata": {
        "id": "ei-id58h4Jfy",
        "colab": {
          "base_uri": "https://localhost:8080/"
        },
        "outputId": "57df6b1e-16e9-400f-cd1f-30c38bc47c50"
      },
      "execution_count": 8,
      "outputs": [
        {
          "output_type": "stream",
          "name": "stdout",
          "text": [
            "314.2\n",
            "62.839999999999996\n",
            "1256.8\n",
            "125.67999999999999\n"
          ]
        }
      ]
    },
    {
      "cell_type": "code",
      "source": [
        "c1.__dict__"
      ],
      "metadata": {
        "id": "5eJktjCg5MVs",
        "colab": {
          "base_uri": "https://localhost:8080/"
        },
        "outputId": "9516b525-e284-41e5-dfda-65c72fa97396"
      },
      "execution_count": 9,
      "outputs": [
        {
          "output_type": "execute_result",
          "data": {
            "text/plain": [
              "{'radius': 10}"
            ]
          },
          "metadata": {},
          "execution_count": 9
        }
      ]
    },
    {
      "cell_type": "code",
      "source": [
        "c1.radius=100\n",
        "print(c1.__dict__)\n",
        "print(c1.circle_area())\n",
        "print(c1.__dict__)"
      ],
      "metadata": {
        "colab": {
          "base_uri": "https://localhost:8080/"
        },
        "id": "5494exkV7ikk",
        "outputId": "f4bb0ac0-f3ae-4c94-c343-0fabf99b5dc4"
      },
      "execution_count": 10,
      "outputs": [
        {
          "output_type": "stream",
          "name": "stdout",
          "text": [
            "{'radius': 100}\n",
            "31420.0\n",
            "{'radius': 100}\n"
          ]
        }
      ]
    }
  ]
}