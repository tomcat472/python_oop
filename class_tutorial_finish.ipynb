{
  "nbformat": 4,
  "nbformat_minor": 0,
  "metadata": {
    "colab": {
      "provenance": [],
      "authorship_tag": "ABX9TyOSIZ0+Ha65MRkMj9AJS7cS"
    },
    "kernelspec": {
      "name": "python3",
      "display_name": "Python 3"
    },
    "language_info": {
      "name": "python"
    }
  },
  "cells": [
    {
      "cell_type": "code",
      "execution_count": 1,
      "metadata": {
        "colab": {
          "base_uri": "https://localhost:8080/"
        },
        "id": "DH35EdNbRIn_",
        "outputId": "41bb3880-c282-4876-a067-650739b659da"
      },
      "outputs": [
        {
          "output_type": "stream",
          "name": "stdout",
          "text": [
            "<__main__.Map object at 0x7f759c3b2e20>\n"
          ]
        }
      ],
      "source": [
        "class Map:\n",
        "  def __init__(self,location,atm):\n",
        "    self.location=location\n",
        "    self.atm=atm\n",
        "  def draw(self):\n",
        "    return f'draw line at {self.location}'\n",
        "map1=Map((12.32,23.23),4)\n",
        "print(map1)"
      ]
    },
    {
      "cell_type": "code",
      "source": [
        "map1.__dict__"
      ],
      "metadata": {
        "colab": {
          "base_uri": "https://localhost:8080/"
        },
        "id": "n2EPRa0eSKz0",
        "outputId": "039063a4-383a-4585-c0c8-6347344756ac"
      },
      "execution_count": 2,
      "outputs": [
        {
          "output_type": "execute_result",
          "data": {
            "text/plain": [
              "{'location': (12.32, 23.23), 'atm': 4}"
            ]
          },
          "metadata": {},
          "execution_count": 2
        }
      ]
    },
    {
      "cell_type": "code",
      "source": [
        "map1.draw()"
      ],
      "metadata": {
        "colab": {
          "base_uri": "https://localhost:8080/",
          "height": 36
        },
        "id": "RUWc2pHcSVPv",
        "outputId": "4e5281c9-0801-4dee-a4e9-44f180253844"
      },
      "execution_count": 3,
      "outputs": [
        {
          "output_type": "execute_result",
          "data": {
            "text/plain": [
              "'draw line at (12.32, 23.23)'"
            ],
            "application/vnd.google.colaboratory.intrinsic+json": {
              "type": "string"
            }
          },
          "metadata": {},
          "execution_count": 3
        }
      ]
    },
    {
      "cell_type": "code",
      "source": [
        "# class variable\n",
        "class House:\n",
        "  roof=True\n",
        "\n",
        "  def __init__(self,doors,windows,floors):\n",
        "    self.doors=doors\n",
        "    self.windows=windows\n",
        "    self.floors=floors\n",
        "  \n",
        "  def clean_roof(self):\n",
        "    if self.roof:\n",
        "      print('Cleaning Roof')\n",
        "    else:\n",
        "      print('No roof to be cleaned')\n",
        "house1=House(5,15,3)"
      ],
      "metadata": {
        "id": "YKkX8bMLUHC_"
      },
      "execution_count": 4,
      "outputs": []
    },
    {
      "cell_type": "code",
      "source": [
        "house1.clean_roof()"
      ],
      "metadata": {
        "colab": {
          "base_uri": "https://localhost:8080/"
        },
        "id": "Wz3jCkXoa514",
        "outputId": "592b6f8b-c606-4afa-f035-392b390e3653"
      },
      "execution_count": 5,
      "outputs": [
        {
          "output_type": "stream",
          "name": "stdout",
          "text": [
            "Cleaning Roof\n"
          ]
        }
      ]
    },
    {
      "cell_type": "code",
      "source": [
        "House.__dict__"
      ],
      "metadata": {
        "colab": {
          "base_uri": "https://localhost:8080/"
        },
        "id": "_FJphMJjbd-x",
        "outputId": "1d3fe9f7-2b8c-4b38-c646-862fb2efa273"
      },
      "execution_count": 6,
      "outputs": [
        {
          "output_type": "execute_result",
          "data": {
            "text/plain": [
              "mappingproxy({'__module__': '__main__',\n",
              "              'roof': True,\n",
              "              '__init__': <function __main__.House.__init__(self, doors, windows, floors)>,\n",
              "              'clean_roof': <function __main__.House.clean_roof(self)>,\n",
              "              '__dict__': <attribute '__dict__' of 'House' objects>,\n",
              "              '__weakref__': <attribute '__weakref__' of 'House' objects>,\n",
              "              '__doc__': None})"
            ]
          },
          "metadata": {},
          "execution_count": 6
        }
      ]
    },
    {
      "cell_type": "code",
      "source": [
        "house1.__dict__"
      ],
      "metadata": {
        "colab": {
          "base_uri": "https://localhost:8080/"
        },
        "id": "dyt1Dz_DbhUw",
        "outputId": "f3e64ea4-e8b2-46e2-8182-a5c6ba1641cc"
      },
      "execution_count": 7,
      "outputs": [
        {
          "output_type": "execute_result",
          "data": {
            "text/plain": [
              "{'doors': 5, 'windows': 15, 'floors': 3}"
            ]
          },
          "metadata": {},
          "execution_count": 7
        }
      ]
    },
    {
      "cell_type": "code",
      "source": [
        "class House:\n",
        "  roof=False\n",
        "\n",
        "  def __init__(self,doors,windows,floors):\n",
        "    self.doors=doors\n",
        "    self.windows=windows\n",
        "    self.floors=floors\n",
        "  \n",
        "  def clean_roof(self):\n",
        "    if self.roof:\n",
        "      print('Cleaning Roof')\n",
        "    else:\n",
        "      print('No roof to be cleaned')\n",
        "house1=House(5,15,3)"
      ],
      "metadata": {
        "id": "wil6ZJTgbj3j"
      },
      "execution_count": 8,
      "outputs": []
    },
    {
      "cell_type": "code",
      "source": [
        "house1.clean_roof()"
      ],
      "metadata": {
        "colab": {
          "base_uri": "https://localhost:8080/"
        },
        "id": "wZ5v_hEZbr28",
        "outputId": "8698b7b3-1eeb-4e0c-d953-d95d9f8e82fd"
      },
      "execution_count": 9,
      "outputs": [
        {
          "output_type": "stream",
          "name": "stdout",
          "text": [
            "No roof to be cleaned\n"
          ]
        }
      ]
    },
    {
      "cell_type": "code",
      "source": [
        "house1.roof=True\n",
        "house1.clean_roof()"
      ],
      "metadata": {
        "colab": {
          "base_uri": "https://localhost:8080/"
        },
        "id": "htVkVjqgbvTa",
        "outputId": "d18084d8-7bc0-45a8-da1c-16face7a2a26"
      },
      "execution_count": 10,
      "outputs": [
        {
          "output_type": "stream",
          "name": "stdout",
          "text": [
            "Cleaning Roof\n"
          ]
        }
      ]
    },
    {
      "cell_type": "code",
      "source": [
        "class House:\n",
        "  roof=True\n",
        "\n",
        "  def __init__(self,doors,windows,floors):\n",
        "    self.doors=doors\n",
        "    self.windows=windows\n",
        "    self.floors=floors\n",
        "  \n",
        "  def clean_roof(self):\n",
        "    if self.roof:\n",
        "      print('Cleaning Roof')\n",
        "    else:\n",
        "      print('No roof to be cleaned')\n",
        "  \n",
        "  @classmethod\n",
        "  def mymethod(cls,roof):\n",
        "    cls.roof=roof\n",
        "\n",
        "  @staticmethod\n",
        "  def leaving_house(time_of_day):\n",
        "    print(f'Leaving house at {time_of_day}')\n",
        "\n",
        "house1=House(5,15,3)\n",
        "House.mymethod(False)\n",
        "print(House.roof)\n",
        "print(house1.leaving_house('2 PM'))"
      ],
      "metadata": {
        "id": "rOBWizdnb1nS",
        "colab": {
          "base_uri": "https://localhost:8080/"
        },
        "outputId": "8f38a8b1-4736-4d23-cdcc-bae8c4bc4868"
      },
      "execution_count": 11,
      "outputs": [
        {
          "output_type": "stream",
          "name": "stdout",
          "text": [
            "False\n",
            "Leaving house at 2 PM\n",
            "None\n"
          ]
        }
      ]
    },
    {
      "cell_type": "code",
      "source": [
        "# Inheritance\n",
        "class Car:\n",
        "  def __init__(self,wheels,doors,engine):\n",
        "    self.wheels=wheels\n",
        "    self.doors=doors\n",
        "    self.engine=engine\n",
        "  @staticmethod\n",
        "  def drive():\n",
        "    print('Driving')\n",
        "  \n",
        "  @staticmethod\n",
        "  def brake():\n",
        "    print('Braking')\n",
        "\n",
        "class Suzuki(Car):\n",
        "  def __init__(self,wheels,doors,engine,fourwheeldrive):\n",
        "    super().__init__(wheels,doors,engine)\n",
        "    # Car.__init__(self,wheels,doors,engine)\n",
        "    self.fourwheeldrive=fourwheeldrive\n",
        "\n",
        "  @staticmethod\n",
        "  def drive():\n",
        "    print('Driving Suzuki')\n",
        "\n",
        "suzuki=Suzuki(4,4,'fast',True)\n",
        "car=Car(4,4,'fast')\n",
        "\n",
        "print(Suzuki.drive())\n",
        "print(Car.drive())"
      ],
      "metadata": {
        "colab": {
          "base_uri": "https://localhost:8080/"
        },
        "id": "jE2HC9nRy_zj",
        "outputId": "d563f8d0-391a-454c-8d13-c731f21675ad"
      },
      "execution_count": 12,
      "outputs": [
        {
          "output_type": "stream",
          "name": "stdout",
          "text": [
            "Driving Suzuki\n",
            "None\n",
            "Driving\n",
            "None\n"
          ]
        }
      ]
    },
    {
      "cell_type": "code",
      "source": [
        "# Composition\n",
        "class Processor:\n",
        "  \n",
        "  def __init__(self,core,speed):\n",
        "    self.core=core\n",
        "    self.speed=speed\n",
        "  \n",
        "  @staticmethod\n",
        "  def processing():\n",
        "    print('Processing -> processing')\n",
        "\n",
        "class Ram:\n",
        "  def __init__(self,capacity,speed):\n",
        "    self.capacity=capacity\n",
        "    self.speed=speed\n",
        "\n",
        "  @staticmethod\n",
        "  def storing():\n",
        "    print('Ram -> storing')\n",
        "\n",
        "class Motherboard:\n",
        "  \n",
        "  def __init__(self,dimm_slots,pci_slots):\n",
        "    self.dimm_slots=dimm_slots\n",
        "    self.pci_slots=pci_slots\n",
        "  \n",
        "  @staticmethod\n",
        "  def controlling():\n",
        "    print('Motherboard -> controlling')\n",
        "\n",
        "class Computer:\n",
        "\n",
        "  def __init__(self,processor,ram,motherboard):\n",
        "    self.processor=processor\n",
        "    self.ram=ram\n",
        "    self.motherboard=motherboard\n",
        "\n",
        "  @staticmethod\n",
        "  def boot():\n",
        "    print('Computer -> booting')\n",
        "\n",
        "computer=Computer(Processor(4,3),Ram(8,266),Motherboard(4,3))\n",
        "print(computer.boot())\n",
        "print(computer.processor.processing())\n",
        "print(computer.ram.storing())\n",
        "print(computer.motherboard.controlling())"
      ],
      "metadata": {
        "id": "YWELIJjb6i5B",
        "colab": {
          "base_uri": "https://localhost:8080/"
        },
        "outputId": "7a9a85e2-caae-45a6-eca1-31f1c3e5e86a"
      },
      "execution_count": 13,
      "outputs": [
        {
          "output_type": "stream",
          "name": "stdout",
          "text": [
            "Computer -> booting\n",
            "None\n",
            "Processing -> processing\n",
            "None\n",
            "Ram -> storing\n",
            "None\n",
            "Motherboard -> controlling\n",
            "None\n"
          ]
        }
      ]
    },
    {
      "cell_type": "code",
      "source": [
        "# Dunder/Magic Method\n",
        "class Tree:\n",
        "  def __init__(self,name,branches,color):\n",
        "    self.name=name\n",
        "    self.branches=branches\n",
        "    self.color=color\n",
        "  \n",
        "  def __repr__(self):  #printable representation \n",
        "    return f'Name:{self.name}, Branches:{self.branches}, Color:{self.color}'\n",
        "\n",
        "  def __add__(self,x):\n",
        "    return self.color + x.color\n",
        "t1=Tree('Oak',10,'Green')\n",
        "t2=Tree('Birch',20,'Orange')\n",
        "\n",
        "print(t1+t2)"
      ],
      "metadata": {
        "colab": {
          "base_uri": "https://localhost:8080/"
        },
        "id": "SqccbelAtso2",
        "outputId": "64fe97f9-8f93-4df8-ea90-587a16f2f6dd"
      },
      "execution_count": 14,
      "outputs": [
        {
          "output_type": "stream",
          "name": "stdout",
          "text": [
            "GreenOrange\n"
          ]
        }
      ]
    }
  ]
}