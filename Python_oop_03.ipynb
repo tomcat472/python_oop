{
  "nbformat": 4,
  "nbformat_minor": 0,
  "metadata": {
    "colab": {
      "provenance": [],
      "authorship_tag": "ABX9TyM7JgP3NgnGWyU/uWsXWEFd",
      "include_colab_link": true
    },
    "kernelspec": {
      "name": "python3",
      "display_name": "Python 3"
    },
    "language_info": {
      "name": "python"
    }
  },
  "cells": [
    {
      "cell_type": "markdown",
      "metadata": {
        "id": "view-in-github",
        "colab_type": "text"
      },
      "source": [
        "<a href=\"https://colab.research.google.com/github/tomcat472/python_oop/blob/main/Python_oop_03.ipynb\" target=\"_parent\"><img src=\"https://colab.research.google.com/assets/colab-badge.svg\" alt=\"Open In Colab\"/></a>"
      ]
    },
    {
      "cell_type": "code",
      "execution_count": 1,
      "metadata": {
        "id": "z-ZvO-aITPRK"
      },
      "outputs": [],
      "source": [
        "#static method\n",
        "class Student:\n",
        "  def __init__(self,name,age):\n",
        "    self.name=name\n",
        "    self.age=age\n",
        "  @staticmethod\n",
        "  def printstatement():\n",
        "    print('this is staticmethod')"
      ]
    },
    {
      "cell_type": "code",
      "source": [
        "s1=Student('Jack',21)"
      ],
      "metadata": {
        "id": "zv-RFtyAV8C2"
      },
      "execution_count": 2,
      "outputs": []
    },
    {
      "cell_type": "code",
      "source": [
        "s1.__dict__"
      ],
      "metadata": {
        "colab": {
          "base_uri": "https://localhost:8080/"
        },
        "id": "-bdZYx06V_Ne",
        "outputId": "fbd8a2a0-1776-4d72-aabe-1f5b0d428ee9"
      },
      "execution_count": 3,
      "outputs": [
        {
          "output_type": "execute_result",
          "data": {
            "text/plain": [
              "{'name': 'Jack', 'age': 21}"
            ]
          },
          "metadata": {},
          "execution_count": 3
        }
      ]
    },
    {
      "cell_type": "code",
      "source": [
        "s1.printstatement()"
      ],
      "metadata": {
        "colab": {
          "base_uri": "https://localhost:8080/"
        },
        "id": "MR_47JiqWAdM",
        "outputId": "8805e0e2-6bcb-42bc-993b-c1c4da183e29"
      },
      "execution_count": 4,
      "outputs": [
        {
          "output_type": "stream",
          "name": "stdout",
          "text": [
            "this is staticmethod\n"
          ]
        }
      ]
    },
    {
      "cell_type": "code",
      "source": [
        "# Exercise on static method"
      ],
      "metadata": {
        "id": "xukzuKI2WQuc"
      },
      "execution_count": 5,
      "outputs": []
    },
    {
      "cell_type": "code",
      "source": [
        "class Date:\n",
        "  def __init__(self,year,month,day):    #constructor/init method\n",
        "    self.year=year\n",
        "    self.month=month\n",
        "    self.day=day\n",
        "  \n",
        "  def arrange_value_into_Date(self):  #instance method\n",
        "    date=str(self.day)+'-'+str(self.month)+'-'+str(self.year)\n",
        "    return date\n",
        "\n",
        "  @classmethod                      #class method\n",
        "  def getDatefromString(clr,string):\n",
        "    import re\n",
        "    date=re.findall('\\d{2}-\\d{2}-\\d{4}|\\d{2}/\\d{2}/\\d{4}',string)[0]\n",
        "    list_date=date.replace('/','-').split('-')\n",
        "    date=list_date[0]\n",
        "    month=list_date[1]\n",
        "    year=list_date[2]\n",
        "    return clr(date,month,year)\n",
        "\n",
        "  @staticmethod\n",
        "  def setDatePattern(string):\n",
        "    list1=string.replace('/','-').split('-')\n",
        "    date_update=list1[2]+'-'+list1[1]+'-'+list1[0]\n",
        "    return date_update"
      ],
      "metadata": {
        "id": "bGOHO6A6W886"
      },
      "execution_count": 6,
      "outputs": []
    },
    {
      "cell_type": "code",
      "source": [
        "date1=Date(2020,12,4)"
      ],
      "metadata": {
        "id": "FqvQgC9lXpsp"
      },
      "execution_count": 7,
      "outputs": []
    },
    {
      "cell_type": "code",
      "source": [
        "date1.__dict__"
      ],
      "metadata": {
        "colab": {
          "base_uri": "https://localhost:8080/"
        },
        "id": "GE5ygnwVXssN",
        "outputId": "6cf98194-f1d2-414c-99b1-c22ecd61eff2"
      },
      "execution_count": 8,
      "outputs": [
        {
          "output_type": "execute_result",
          "data": {
            "text/plain": [
              "{'year': 2020, 'month': 12, 'day': 4}"
            ]
          },
          "metadata": {},
          "execution_count": 8
        }
      ]
    },
    {
      "cell_type": "code",
      "source": [
        "date1.arrange_value_into_Date()"
      ],
      "metadata": {
        "colab": {
          "base_uri": "https://localhost:8080/",
          "height": 36
        },
        "id": "KU9fZAfbXt1x",
        "outputId": "cef79d9d-3271-4cf8-8019-06594d1c4251"
      },
      "execution_count": 9,
      "outputs": [
        {
          "output_type": "execute_result",
          "data": {
            "text/plain": [
              "'4-12-2020'"
            ],
            "application/vnd.google.colaboratory.intrinsic+json": {
              "type": "string"
            }
          },
          "metadata": {},
          "execution_count": 9
        }
      ]
    },
    {
      "cell_type": "code",
      "source": [
        "date2=Date.getDatefromString('today is 12-10-2022')"
      ],
      "metadata": {
        "id": "tVg2RvhZYR1F"
      },
      "execution_count": 10,
      "outputs": []
    },
    {
      "cell_type": "code",
      "source": [
        "date2.__dict__"
      ],
      "metadata": {
        "colab": {
          "base_uri": "https://localhost:8080/"
        },
        "id": "HW2D--TfZcpa",
        "outputId": "9fa55a4b-c922-4618-b976-3f7defe3bd92"
      },
      "execution_count": 11,
      "outputs": [
        {
          "output_type": "execute_result",
          "data": {
            "text/plain": [
              "{'year': '12', 'month': '10', 'day': '2022'}"
            ]
          },
          "metadata": {},
          "execution_count": 11
        }
      ]
    },
    {
      "cell_type": "code",
      "source": [
        "date3=Date.setDatePattern('2022-10-12')"
      ],
      "metadata": {
        "id": "tgBXFhFca0y9"
      },
      "execution_count": 12,
      "outputs": []
    },
    {
      "cell_type": "code",
      "source": [
        "date3"
      ],
      "metadata": {
        "colab": {
          "base_uri": "https://localhost:8080/",
          "height": 36
        },
        "id": "PuYYlYZMfUtV",
        "outputId": "0efeb006-ed0b-4602-bef9-cd1aba6c5dfc"
      },
      "execution_count": 13,
      "outputs": [
        {
          "output_type": "execute_result",
          "data": {
            "text/plain": [
              "'12-10-2022'"
            ],
            "application/vnd.google.colaboratory.intrinsic+json": {
              "type": "string"
            }
          },
          "metadata": {},
          "execution_count": 13
        }
      ]
    }
  ]
}