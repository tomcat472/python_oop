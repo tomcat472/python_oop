{
  "nbformat": 4,
  "nbformat_minor": 0,
  "metadata": {
    "colab": {
      "provenance": [],
      "authorship_tag": "ABX9TyO9K0e8k5kMXO+wiWP57R7f",
      "include_colab_link": true
    },
    "kernelspec": {
      "name": "python3",
      "display_name": "Python 3"
    },
    "language_info": {
      "name": "python"
    }
  },
  "cells": [
    {
      "cell_type": "markdown",
      "metadata": {
        "id": "view-in-github",
        "colab_type": "text"
      },
      "source": [
        "<a href=\"https://colab.research.google.com/github/tomcat472/python_oop/blob/main/Python_oop.ipynb\" target=\"_parent\"><img src=\"https://colab.research.google.com/assets/colab-badge.svg\" alt=\"Open In Colab\"/></a>"
      ]
    },
    {
      "cell_type": "markdown",
      "source": [
        "# First Class"
      ],
      "metadata": {
        "id": "KFKqbVttn8tW"
      }
    },
    {
      "cell_type": "code",
      "execution_count": 1,
      "metadata": {
        "id": "7IwFaIt-k7yZ"
      },
      "outputs": [],
      "source": [
        "class Student:\n",
        "  def __init__(self,name,age,mark):\n",
        "    self.name=name\n",
        "    self.age=age\n",
        "    self.mark=mark"
      ]
    },
    {
      "cell_type": "code",
      "source": [
        "s1=Student('Jack',20,540)"
      ],
      "metadata": {
        "id": "qiAp_zjllRNB"
      },
      "execution_count": 2,
      "outputs": []
    },
    {
      "cell_type": "code",
      "source": [
        "print(s1)"
      ],
      "metadata": {
        "colab": {
          "base_uri": "https://localhost:8080/"
        },
        "id": "4AAo0beBmEyj",
        "outputId": "fea6ac6c-1dd3-4ec1-8bda-11f9c3383a49"
      },
      "execution_count": 3,
      "outputs": [
        {
          "output_type": "stream",
          "name": "stdout",
          "text": [
            "<__main__.Student object at 0x7f85c73e0390>\n"
          ]
        }
      ]
    },
    {
      "cell_type": "code",
      "source": [
        "print(s1.name)\n",
        "print(s1.age)\n",
        "print(s1.mark)"
      ],
      "metadata": {
        "colab": {
          "base_uri": "https://localhost:8080/"
        },
        "id": "oa6wkNq8mFso",
        "outputId": "085611e3-d8b9-40f0-a949-a055d11c9150"
      },
      "execution_count": 4,
      "outputs": [
        {
          "output_type": "stream",
          "name": "stdout",
          "text": [
            "Jack\n",
            "20\n",
            "540\n"
          ]
        }
      ]
    },
    {
      "cell_type": "code",
      "source": [
        "s2=Student('Jerry',21,550)\n",
        "print(s2.name,s2.age,s2.mark)"
      ],
      "metadata": {
        "colab": {
          "base_uri": "https://localhost:8080/"
        },
        "id": "R_H3uMVHmKF_",
        "outputId": "bcdf3145-daef-44f5-c9fe-d0b9c938bcc5"
      },
      "execution_count": 5,
      "outputs": [
        {
          "output_type": "stream",
          "name": "stdout",
          "text": [
            "Jerry 21 550\n"
          ]
        }
      ]
    },
    {
      "cell_type": "markdown",
      "source": [
        "# Method"
      ],
      "metadata": {
        "id": "cYe8dqM2n6OH"
      }
    },
    {
      "cell_type": "code",
      "source": [
        "class Student:\n",
        "  def __init__(self,name,age,mark):\n",
        "    self.name=name\n",
        "    self.age=age\n",
        "    self.mark=mark\n",
        "  def result(self):\n",
        "    if self.mark >= 240:\n",
        "      return 'Pass'\n",
        "    else:\n",
        "      return 'Fail'"
      ],
      "metadata": {
        "id": "GELoL0YDnhOK"
      },
      "execution_count": 6,
      "outputs": []
    },
    {
      "cell_type": "code",
      "source": [
        "s3=Student('tom',22,240)\n",
        "s4=Student('Bon',20,220)\n",
        "print(s3.result())\n",
        "print(s4.result())"
      ],
      "metadata": {
        "colab": {
          "base_uri": "https://localhost:8080/"
        },
        "id": "kXX1WBWhoTe2",
        "outputId": "e3b22325-7b3e-43b3-d269-65c3d9847f38"
      },
      "execution_count": 7,
      "outputs": [
        {
          "output_type": "stream",
          "name": "stdout",
          "text": [
            "Pass\n",
            "Fail\n"
          ]
        }
      ]
    },
    {
      "cell_type": "markdown",
      "source": [
        "# Method Exercise"
      ],
      "metadata": {
        "id": "EUFKE_Xjp8Mf"
      }
    },
    {
      "cell_type": "code",
      "source": [
        "# exercise1\n",
        "class Man:\n",
        "  def __init__(self,name,age):\n",
        "    self.name=name\n",
        "    self.age=age\n",
        "  def old_or_not(self):\n",
        "    if self.age >=65:\n",
        "      return \"old\"\n",
        "    else:\n",
        "      return \"not old\""
      ],
      "metadata": {
        "id": "nhhHJCE0ojUz"
      },
      "execution_count": 8,
      "outputs": []
    },
    {
      "cell_type": "code",
      "source": [
        "m1=Man('Jame',45)\n",
        "m2=Man('Eaa',50)\n",
        "m3=Man('Kala',66)\n",
        "m4=Man('Luke',60)\n",
        "m5=Man('Jerry',70)"
      ],
      "metadata": {
        "id": "zEWyz8pyqXPt"
      },
      "execution_count": 9,
      "outputs": []
    },
    {
      "cell_type": "code",
      "source": [
        "mans=[m1,m2,m3,m4,m5]\n",
        "old_man=[]\n",
        "not_old_man=[]\n",
        "man_result={}\n",
        "for x in mans:\n",
        "  if x.old_or_not()=='old':\n",
        "    old_man.append(x.name)\n",
        "    man_result['old_man']=old_man\n",
        "  else:\n",
        "    not_old_man.append(x.name)\n",
        "    man_result['not_old_man']=not_old_man"
      ],
      "metadata": {
        "id": "YBp7lMetqqyq"
      },
      "execution_count": 10,
      "outputs": []
    },
    {
      "cell_type": "code",
      "source": [
        "man_result"
      ],
      "metadata": {
        "colab": {
          "base_uri": "https://localhost:8080/"
        },
        "id": "4AXbzh6srI2k",
        "outputId": "81b7f430-9389-4382-a579-5832f6917941"
      },
      "execution_count": 11,
      "outputs": [
        {
          "output_type": "execute_result",
          "data": {
            "text/plain": [
              "{'not_old_man': ['Jame', 'Eaa', 'Luke'], 'old_man': ['Kala', 'Jerry']}"
            ]
          },
          "metadata": {},
          "execution_count": 11
        }
      ]
    },
    {
      "cell_type": "code",
      "source": [
        "# exercise 2\n",
        "class Product:\n",
        "  def __init__(self,name,price):\n",
        "    self.name=name\n",
        "    self.price=price\n",
        "  def discount(self,discountvalue):\n",
        "    disscountAmount=(self.price/100)*discountvalue\n",
        "    final_price=self.price-discountvalue\n",
        "    return final_price"
      ],
      "metadata": {
        "id": "8ZBucHCOrMFS"
      },
      "execution_count": 12,
      "outputs": []
    },
    {
      "cell_type": "code",
      "source": [
        "laptop=Product('Lenovo',550000)\n",
        "laptop.discount(20)"
      ],
      "metadata": {
        "colab": {
          "base_uri": "https://localhost:8080/"
        },
        "id": "TqVfqMfgtp-W",
        "outputId": "8a905ada-55bd-4cb7-faa4-3580ac0d69c0"
      },
      "execution_count": 13,
      "outputs": [
        {
          "output_type": "execute_result",
          "data": {
            "text/plain": [
              "549980"
            ]
          },
          "metadata": {},
          "execution_count": 13
        }
      ]
    },
    {
      "cell_type": "code",
      "source": [
        "laptop.price"
      ],
      "metadata": {
        "colab": {
          "base_uri": "https://localhost:8080/"
        },
        "id": "sK7JnU3Ht0-l",
        "outputId": "ad1f0092-5ce6-42fc-8400-fcfd5c68bacc"
      },
      "execution_count": 14,
      "outputs": [
        {
          "output_type": "execute_result",
          "data": {
            "text/plain": [
              "550000"
            ]
          },
          "metadata": {},
          "execution_count": 14
        }
      ]
    }
  ]
}